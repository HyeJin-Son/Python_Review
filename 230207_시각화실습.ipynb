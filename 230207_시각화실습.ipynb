{
  "nbformat": 4,
  "nbformat_minor": 0,
  "metadata": {
    "colab": {
      "provenance": [],
      "include_colab_link": true
    },
    "kernelspec": {
      "name": "python3",
      "display_name": "Python 3"
    },
    "language_info": {
      "name": "python"
    }
  },
  "cells": [
    {
      "cell_type": "markdown",
      "metadata": {
        "id": "view-in-github",
        "colab_type": "text"
      },
      "source": [
        "<a href=\"https://colab.research.google.com/github/HyeJin-Son/Python_Review/blob/master/230207_%EC%8B%9C%EA%B0%81%ED%99%94%EC%8B%A4%EC%8A%B5.ipynb\" target=\"_parent\"><img src=\"https://colab.research.google.com/assets/colab-badge.svg\" alt=\"Open In Colab\"/></a>"
      ]
    },
    {
      "cell_type": "code",
      "execution_count": null,
      "metadata": {
        "colab": {
          "base_uri": "https://localhost:8080/"
        },
        "id": "iumhPFURaCnJ",
        "outputId": "131ad2df-daf4-48b1-89a9-c9e509120e6b"
      },
      "outputs": [
        {
          "output_type": "stream",
          "name": "stdout",
          "text": [
            "Hello World\n"
          ]
        }
      ],
      "source": [
        "print(\"Hello World\")"
      ]
    },
    {
      "cell_type": "code",
      "source": [
        "1 + 1"
      ],
      "metadata": {
        "colab": {
          "base_uri": "https://localhost:8080/"
        },
        "id": "0f34tt31abMN",
        "outputId": "42fa6271-b941-496e-850d-a65abd4b8a18"
      },
      "execution_count": null,
      "outputs": [
        {
          "output_type": "execute_result",
          "data": {
            "text/plain": [
              "2"
            ]
          },
          "metadata": {},
          "execution_count": 3
        }
      ]
    },
    {
      "cell_type": "markdown",
      "source": [
        "* 구글 드라이브 > Colab Notebooks\n",
        "* 공유 > 일반 액세스 > 링크가 있는 모든 사용자 > 뷰어"
      ],
      "metadata": {
        "id": "fK7E5Ez7auIV"
      }
    },
    {
      "cell_type": "markdown",
      "source": [
        "* 자동 저장 (클라우드에, 구글 드라이브에)\n",
        "1. 파일 > Drive에 사본 저장 > (다른 이름으로 사본 저장) : 외부의 예제 파일이나 Colab을 본인 드라이브에 옮기고 싶을 때\n",
        "1. 파일 > 다운로드 : 내 PC에 저장 (.ipynb or .py) → 내 PC의 Python이나 주피터 노트북\n",
        "1. 파일 > GitHub에 사본 저장 : GitHub에 저장소로 바로 저장이 가능 → 깃 심기\n",
        "\n",
        "* 특수문자 : 윈도우 + .\n",
        "* 화면분할 : 윈도우 + 방향키\n",
        "* 화면캡처 : 윈도우 + shift + s"
      ],
      "metadata": {
        "id": "10k8pon9bZJW"
      }
    },
    {
      "cell_type": "markdown",
      "source": [
        "* 구글 드라이브 연동\n",
        "    * 왼쪽에 파일모양 아이콘 (좌측 바 4번째) > 파일 > 3번째 아이콘 (드라이브 마운트) > 노트북이 Google Drive 파일에 액세스하도록 허용하시겠습니까? > Drive에 연결\n",
        "    * drive 경로로 받아옴"
      ],
      "metadata": {
        "id": "A2qFfSYhdNis"
      }
    }
  ]
}