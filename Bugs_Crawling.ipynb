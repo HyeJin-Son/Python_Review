{
 "cells": [
  {
   "cell_type": "code",
   "execution_count": 2,
   "id": "58ae8ca9",
   "metadata": {},
   "outputs": [
    {
     "name": "stderr",
     "output_type": "stream",
     "text": [
      "C:\\Users\\82105\\AppData\\Local\\Temp\\ipykernel_4448\\2036909505.py:5: DeprecationWarning: executable_path has been deprecated, please pass in a Service object\n",
      "  driver = webdriver.Chrome('C:\\Myexam\\chromedriver/chromedriver.exe')\n"
     ]
    }
   ],
   "source": [
    "#벅스 사이트 접속하기\n",
    "from selenium import webdriver\n",
    "from bs4 import BeautifulSoup\n",
    "\n",
    "driver = webdriver.Chrome('C:\\Myexam\\chromedriver/chromedriver.exe')\n",
    "url='http://music.bugs.co.kr/chart'\n",
    "driver.get(url)\n",
    "\n",
    "html=driver.page_source\n",
    "soup=BeautifulSoup(html,'html.parser')"
   ]
  },
  {
   "cell_type": "raw",
   "id": "959c0f1b",
   "metadata": {},
   "source": [
    "분석\n",
    "\n",
    "table.byChart > tbody > tr\n",
    "\n",
    "순위 div.ranking > strong\n",
    "곡    p.title > a\n",
    "아티스트  p.artist > a"
   ]
  },
  {
   "cell_type": "code",
   "execution_count": 5,
   "id": "303ae103",
   "metadata": {},
   "outputs": [],
   "source": [
    "#반복문을 이용해 곡과 가수명을 song_data에 저장하기\n",
    "#[0]은 song 태그 중 첫번째 태그 출력하기 위해..\n",
    "song_data=[]\n",
    "songs=soup.select('table.byChart>tbody>tr')\n",
    "for song in songs:\n",
    "    rank = song.select('div.ranking>strong')[0].text\n",
    "    title = song.select('p.title>a')[0].text\n",
    "    singer = song.select('p.artist>a')[0].text\n",
    "    song_data.append(['Bugs',rank,title,singer])\n",
    "    \n"
   ]
  },
  {
   "cell_type": "code",
   "execution_count": 7,
   "id": "a12ee531",
   "metadata": {},
   "outputs": [
    {
     "data": {
      "text/html": [
       "<div>\n",
       "<style scoped>\n",
       "    .dataframe tbody tr th:only-of-type {\n",
       "        vertical-align: middle;\n",
       "    }\n",
       "\n",
       "    .dataframe tbody tr th {\n",
       "        vertical-align: top;\n",
       "    }\n",
       "\n",
       "    .dataframe thead th {\n",
       "        text-align: right;\n",
       "    }\n",
       "</style>\n",
       "<table border=\"1\" class=\"dataframe\">\n",
       "  <thead>\n",
       "    <tr style=\"text-align: right;\">\n",
       "      <th></th>\n",
       "      <th>서비스</th>\n",
       "      <th>순위</th>\n",
       "      <th>타이틀</th>\n",
       "      <th>가수</th>\n",
       "    </tr>\n",
       "  </thead>\n",
       "  <tbody>\n",
       "    <tr>\n",
       "      <th>0</th>\n",
       "      <td>Bugs</td>\n",
       "      <td>1</td>\n",
       "      <td>Ditto</td>\n",
       "      <td>NewJeans</td>\n",
       "    </tr>\n",
       "    <tr>\n",
       "      <th>1</th>\n",
       "      <td>Bugs</td>\n",
       "      <td>2</td>\n",
       "      <td>OMG</td>\n",
       "      <td>NewJeans</td>\n",
       "    </tr>\n",
       "    <tr>\n",
       "      <th>2</th>\n",
       "      <td>Bugs</td>\n",
       "      <td>3</td>\n",
       "      <td>VIBE (feat. Jimin of BTS)</td>\n",
       "      <td>태양</td>\n",
       "    </tr>\n",
       "    <tr>\n",
       "      <th>3</th>\n",
       "      <td>Bugs</td>\n",
       "      <td>4</td>\n",
       "      <td>Hype Boy</td>\n",
       "      <td>NewJeans</td>\n",
       "    </tr>\n",
       "    <tr>\n",
       "      <th>4</th>\n",
       "      <td>Bugs</td>\n",
       "      <td>5</td>\n",
       "      <td>Attention</td>\n",
       "      <td>NewJeans</td>\n",
       "    </tr>\n",
       "    <tr>\n",
       "      <th>...</th>\n",
       "      <td>...</td>\n",
       "      <td>...</td>\n",
       "      <td>...</td>\n",
       "      <td>...</td>\n",
       "    </tr>\n",
       "    <tr>\n",
       "      <th>95</th>\n",
       "      <td>Bugs</td>\n",
       "      <td>96</td>\n",
       "      <td>사랑해도 될까요</td>\n",
       "      <td>양다일</td>\n",
       "    </tr>\n",
       "    <tr>\n",
       "      <th>96</th>\n",
       "      <td>Bugs</td>\n",
       "      <td>97</td>\n",
       "      <td>떠나보낼 준비해 둘걸 그랬어</td>\n",
       "      <td>임한별</td>\n",
       "    </tr>\n",
       "    <tr>\n",
       "      <th>97</th>\n",
       "      <td>Bugs</td>\n",
       "      <td>98</td>\n",
       "      <td>Beautiful Liar</td>\n",
       "      <td>몬스타엑스(Monsta X)</td>\n",
       "    </tr>\n",
       "    <tr>\n",
       "      <th>98</th>\n",
       "      <td>Bugs</td>\n",
       "      <td>99</td>\n",
       "      <td>MORE</td>\n",
       "      <td>j-hope</td>\n",
       "    </tr>\n",
       "    <tr>\n",
       "      <th>99</th>\n",
       "      <td>Bugs</td>\n",
       "      <td>100</td>\n",
       "      <td>Devil by the Window</td>\n",
       "      <td>투모로우바이투게더</td>\n",
       "    </tr>\n",
       "  </tbody>\n",
       "</table>\n",
       "<p>100 rows × 4 columns</p>\n",
       "</div>"
      ],
      "text/plain": [
       "     서비스   순위                        타이틀               가수\n",
       "0   Bugs    1                      Ditto         NewJeans\n",
       "1   Bugs    2                        OMG         NewJeans\n",
       "2   Bugs    3  VIBE (feat. Jimin of BTS)               태양\n",
       "3   Bugs    4                   Hype Boy         NewJeans\n",
       "4   Bugs    5                  Attention         NewJeans\n",
       "..   ...  ...                        ...              ...\n",
       "95  Bugs   96                   사랑해도 될까요              양다일\n",
       "96  Bugs   97            떠나보낼 준비해 둘걸 그랬어              임한별\n",
       "97  Bugs   98             Beautiful Liar  몬스타엑스(Monsta X)\n",
       "98  Bugs   99                       MORE           j-hope\n",
       "99  Bugs  100        Devil by the Window        투모로우바이투게더\n",
       "\n",
       "[100 rows x 4 columns]"
      ]
     },
     "execution_count": 7,
     "metadata": {},
     "output_type": "execute_result"
    }
   ],
   "source": [
    "#song_data 리스트를 이용해 데이터프레임 만들기\n",
    "import pandas as pd\n",
    "columns =['서비스','순위','타이틀','가수']\n",
    "pd_data=pd.DataFrame(song_data,columns=columns)\n",
    "pd_data"
   ]
  },
  {
   "cell_type": "code",
   "execution_count": 9,
   "id": "8bd01cca",
   "metadata": {},
   "outputs": [],
   "source": [
    "#크롤링 결과를 엑셀 파일로 저장하기\n",
    "pd_data.to_excel('C:/Myexam/bugs.xlsx',index=False)"
   ]
  },
  {
   "cell_type": "code",
   "execution_count": null,
   "id": "a9ca7bdf",
   "metadata": {},
   "outputs": [],
   "source": []
  },
  {
   "cell_type": "code",
   "execution_count": null,
   "id": "c2f0ccac",
   "metadata": {},
   "outputs": [],
   "source": []
  },
  {
   "cell_type": "code",
   "execution_count": null,
   "id": "dec97c9a",
   "metadata": {},
   "outputs": [],
   "source": []
  }
 ],
 "metadata": {
  "kernelspec": {
   "display_name": "Python 3 (ipykernel)",
   "language": "python",
   "name": "python3"
  },
  "language_info": {
   "codemirror_mode": {
    "name": "ipython",
    "version": 3
   },
   "file_extension": ".py",
   "mimetype": "text/x-python",
   "name": "python",
   "nbconvert_exporter": "python",
   "pygments_lexer": "ipython3",
   "version": "3.9.12"
  }
 },
 "nbformat": 4,
 "nbformat_minor": 5
}
