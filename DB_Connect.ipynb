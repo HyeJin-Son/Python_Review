{
 "cells": [
  {
   "cell_type": "raw",
   "id": "82bc244d",
   "metadata": {},
   "source": [
    "!pip install PyMySQL -- PYMYSQL 설치\n",
    "\n",
    "https://pypi.org/project/PyMySQL/\n",
    "\n",
    "https://pymysql.readthedocs.io/en/latest/"
   ]
  },
  {
   "cell_type": "code",
   "execution_count": 3,
   "id": "8fb5481b",
   "metadata": {},
   "outputs": [
    {
     "name": "stdout",
     "output_type": "stream",
     "text": [
      "Requirement already satisfied: PyMySQL in c:\\users\\82105\\appdata\\roaming\\python\\python39\\site-packages (1.0.2)\n"
     ]
    }
   ],
   "source": [
    "# PYMYSQL 설치\n",
    "!pip install PyMySQL "
   ]
  },
  {
   "cell_type": "code",
   "execution_count": 33,
   "id": "c9876816",
   "metadata": {},
   "outputs": [],
   "source": [
    "import pymysql\n",
    "#임포트 -> connect로 연결 -> 커넥션이 가지고 있는 'cursor'객체 생성 \n",
    "#-> sql 쿼리 작성 실행 execute()cursor.e ->commit()-> fetchall(), fetchone(), fetchmany(n(몇개가져올건지)->close\n",
    "# Connect to the database"
   ]
  },
  {
   "cell_type": "code",
   "execution_count": 34,
   "id": "53a1b5ec",
   "metadata": {},
   "outputs": [],
   "source": [
    "\n",
    "con = pymysql.connect(host='localhost',\n",
    "                             user='root',\n",
    "                             password='****',\n",
    "                             database='my_emp',\n",
    "                             charset='utf8') #한글처리하려고\n",
    "                             #cursorclass=pymysql.cursors.DictCursor);\n",
    "    #mysql -h localhost -u root -p 비번"
   ]
  },
  {
   "cell_type": "code",
   "execution_count": 4,
   "id": "1019862b",
   "metadata": {},
   "outputs": [
    {
     "name": "stdout",
     "output_type": "stream",
     "text": [
      "<pymysql.connections.Connection object at 0x0000014D212BA3D0>\n"
     ]
    }
   ],
   "source": [
    "print(con)"
   ]
  },
  {
   "cell_type": "code",
   "execution_count": 1,
   "id": "85a2705f",
   "metadata": {},
   "outputs": [],
   "source": [
    "print(dir(con))"
   ]
  },
  {
   "cell_type": "code",
   "execution_count": 35,
   "id": "283a00a5",
   "metadata": {},
   "outputs": [
    {
     "name": "stdout",
     "output_type": "stream",
     "text": [
      "Help on method connect in module pymysql.connections:\n",
      "\n",
      "connect(sock=None) method of pymysql.connections.Connection instance\n",
      "\n",
      "None\n"
     ]
    }
   ],
   "source": [
    "print(help(con.connect)) # 마지막 None 출력은 return 값이 없는데 print해서 None 이 출력됨"
   ]
  },
  {
   "cell_type": "raw",
   "id": "092d3996",
   "metadata": {},
   "source": [
    "https://pymysql.readthedocs.io/en/latest/modules/connections.html\n",
    "\n",
    "https://docs.python.org/3/library/sqlite3.html?highlight=sqlite#module-sqlite3"
   ]
  },
  {
   "cell_type": "code",
   "execution_count": 36,
   "id": "d0dc69dc",
   "metadata": {},
   "outputs": [],
   "source": [
    "#'cursor'객체 생성\n",
    "cur=con.cursor()"
   ]
  },
  {
   "cell_type": "code",
   "execution_count": 11,
   "id": "e3721906",
   "metadata": {},
   "outputs": [],
   "source": []
  },
  {
   "cell_type": "code",
   "execution_count": 37,
   "id": "99109f56",
   "metadata": {},
   "outputs": [
    {
     "data": {
      "text/plain": [
       "14"
      ]
     },
     "execution_count": 37,
     "metadata": {},
     "output_type": "execute_result"
    }
   ],
   "source": [
    "#쿼리 작성 실행 cursor.execute()\n",
    "sql = 'select ename, empno from emp' # ; 안함\n",
    "cur.execute(sql) -- 행 갯수출력"
   ]
  },
  {
   "cell_type": "code",
   "execution_count": null,
   "id": "1279a424",
   "metadata": {},
   "outputs": [
    {
     "name": "stdout",
     "output_type": "stream",
     "text": [
      "(('SMITH', 7369), ('ALLEN', 7499), ('WARD', 7521), ('JONES', 7566), ('MARTIN', 7654), ('BLAKE', 7698), ('CLARK', 7782), ('SCOTT', 7788), ('KING', 7839), ('TURNER', 7844), ('ADAMS', 7876), ('JAMES', 7900), ('FORD', 7902), ('MILLER', 7934))\n"
     ]
    }
   ],
   "source": [
    "#fetchall()--실행결과는 cur가 가지고 있음\n",
    "row_res=cur.fetchall() # fetchall() : 모든 항목 출력, fetchmany(n) : n개의 항목 출력, fetchone():하나의 항목 출력\n",
    "print(row_res)\n",
    "con.close()\n"
   ]
  },
  {
   "cell_type": "code",
   "execution_count": null,
   "id": "3467df23",
   "metadata": {},
   "outputs": [],
   "source": [
    "import pandas as pd"
   ]
  },
  {
   "cell_type": "code",
   "execution_count": null,
   "id": "30a8daa0",
   "metadata": {},
   "outputs": [
    {
     "name": "stdout",
     "output_type": "stream",
     "text": [
      "         0     1\n",
      "0    SMITH  7369\n",
      "1    ALLEN  7499\n",
      "2     WARD  7521\n",
      "3    JONES  7566\n",
      "4   MARTIN  7654\n",
      "5    BLAKE  7698\n",
      "6    CLARK  7782\n",
      "7    SCOTT  7788\n",
      "8     KING  7839\n",
      "9   TURNER  7844\n",
      "10   ADAMS  7876\n",
      "11   JAMES  7900\n",
      "12    FORD  7902\n",
      "13  MILLER  7934\n"
     ]
    }
   ],
   "source": [
    "my_res= pd.DataFrame(row_res)\n",
    "print(my_res)\n",
    "\n",
    "\n",
    "#상위에서 ename과 empno를 출력할 것이라고 선언함\n",
    "#sql = 'select ename, empno from emp'\n",
    "#cur.execute(sql) -- 행 갯수출력"
   ]
  },
  {
   "cell_type": "code",
   "execution_count": null,
   "id": "6df7bbcb",
   "metadata": {},
   "outputs": [
    {
     "name": "stdout",
     "output_type": "stream",
     "text": [
      "((1, '홍길동', Decimal('800.00'), datetime.date(2023, 1, 6)), (1, '홍길동', Decimal('800.00'), datetime.date(2023, 1, 6)), (1, '홍길동', Decimal('800.00'), datetime.date(2023, 1, 6)), (1, '홍길동', Decimal('800.00'), datetime.date(2023, 1, 6)), (1, '홍길동', Decimal('800.00'), datetime.date(2023, 1, 6)))\n"
     ]
    }
   ],
   "source": [
    "#2. 쿼리작성 my_emp에다가 데이터를 입력해보자. 1. 홍길동, 800, 오늘날짜 입력해보자.\n",
    "#임포트 -> connect로 연결 -> 커넥션이 가지고 있는 'cursor'객체 생성 \n",
    "#-> sql 쿼리 작성 실행 cursor.execute() ->commit()-> fetchall(), fetchone(), fetchmany(n(몇개가져올건지)->close\n",
    "# Connect to the database\n",
    "\n",
    "#1) 내 MYSQL에 연결\n",
    "con = pymysql.connect(host='localhost',\n",
    "                             user='root',\n",
    "                             password='****',\n",
    "                             database='my_emp',\n",
    "                             charset='utf8')\n",
    "\n",
    "#2)cursor는 행단위로 값을 받아오는 것.\n",
    "#값 받아 올 커서 객체 생성\n",
    "cur=con.cursor() \n",
    "\n",
    "#3) sql 쿼리 작성 실행\n",
    "sql = 'insert into my_emp(empno, ename, sal, hiredate) values(%s,%s,%s, now())' # ; 안함\n",
    "cur.execute(sql,('1','홍길동',800))\n",
    "cur.execute(sql,('2','홍길동',700))\n",
    "\n",
    "#4)저장\n",
    "con.commit();\n",
    "\n",
    "#5)저장된 값 가져오기\n",
    "with con.cursor() as cursor: # with as 는 따로 파일 close 안해줘도 됨\n",
    "    sql = \"SELECT empno, ename, sal, hiredate From my_emp WHERE empno=%s\" # 문자열로 입력받겠다.\n",
    "    cur.execute(sql,('1'))\n",
    "    result=cur.fetchall()\n",
    "    print(result)\n",
    "\n",
    "con.close()"
   ]
  },
  {
   "attachments": {},
   "cell_type": "markdown",
   "id": "967c358b",
   "metadata": {},
   "source": [
    "### PANDAS를 이용한 CSV 파일 생성 방법"
   ]
  },
  {
   "cell_type": "code",
   "execution_count": null,
   "id": "3810ffdf",
   "metadata": {},
   "outputs": [],
   "source": [
    "\n",
    "\n",
    "import pandas as pd\n",
    "import pymysql.cursors\n",
    "\n",
    "class MyClass:\n",
    "    \n",
    "    def __init__(self):\n",
    "        self.mcon=pymysql.connect(host='localhost',\n",
    "                                 user='root',\n",
    "                                 password='****',\n",
    "                                 database='my_emp',\n",
    "                                 charset='utf8',\n",
    "                                 autocommit=False)\n",
    "        \n",
    "        \n",
    "        \n",
    "    def myexport_csv(self):\n",
    "        exam_sql = \"select * from my_emp where empno =1\"\n",
    "        dir_path = \"C:\\ds_work\\data\"\n",
    "        df=pd.read_sql(sql=exam_sql, con=self.mcon)\n",
    "        df.to_csv(f'{dir_path}\\local_data.csv') #to_csv : csv로 만들어라\n",
    "        return \"성공\"\n",
    "    \n",
    "    def __del_(self):\n",
    "        self.mcon.close()\n",
    "    "
   ]
  },
  {
   "cell_type": "code",
   "execution_count": null,
   "id": "914f266d",
   "metadata": {},
   "outputs": [
    {
     "name": "stderr",
     "output_type": "stream",
     "text": [
      "C:\\Anaconda3\\lib\\site-packages\\pandas\\io\\sql.py:761: UserWarning: pandas only support SQLAlchemy connectable(engine/connection) ordatabase string URI or sqlite3 DBAPI2 connectionother DBAPI2 objects are not tested, please consider using SQLAlchemy\n",
      "  warnings.warn(\n"
     ]
    },
    {
     "data": {
      "text/plain": [
       "'성공'"
      ]
     },
     "execution_count": 95,
     "metadata": {},
     "output_type": "execute_result"
    }
   ],
   "source": [
    "MyClass().myexport_csv()\n",
    "# 엑셀 열어놓고 하면 안됨\n"
   ]
  },
  {
   "attachments": {},
   "cell_type": "markdown",
   "id": "73333a04",
   "metadata": {},
   "source": [
    "##### 해당 수업으로 PANDAS를 이용하여 DB에 접근하는 방법과 CSV 파일 생성 방법을 알아보았다."
   ]
  }
 ],
 "metadata": {
  "kernelspec": {
   "display_name": "Python 3",
   "language": "python",
   "name": "python3"
  },
  "language_info": {
   "codemirror_mode": {
    "name": "ipython",
    "version": 3
   },
   "file_extension": ".py",
   "mimetype": "text/x-python",
   "name": "python",
   "nbconvert_exporter": "python",
   "pygments_lexer": "ipython3",
   "version": "3.10.9 (tags/v3.10.9:1dd9be6, Dec  6 2022, 20:01:21) [MSC v.1934 64 bit (AMD64)]"
  },
  "vscode": {
   "interpreter": {
    "hash": "409c8e0681c9284bc50ce6fb5bfd49c2f62d644bf39f045d0840112257281539"
   }
  }
 },
 "nbformat": 4,
 "nbformat_minor": 5
}
