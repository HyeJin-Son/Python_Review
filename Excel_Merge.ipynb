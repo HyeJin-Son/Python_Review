{
 "cells": [
  {
   "cell_type": "code",
   "execution_count": 2,
   "id": "3705721e",
   "metadata": {},
   "outputs": [
    {
     "name": "stderr",
     "output_type": "stream",
     "text": [
      "C:\\Users\\82105\\AppData\\Local\\Temp\\ipykernel_10336\\2487981760.py:9: FutureWarning: The frame.append method is deprecated and will be removed from pandas in a future version. Use pandas.concat instead.\n",
      "  appended_data=appended_data.append(pd_data)\n",
      "C:\\Users\\82105\\AppData\\Local\\Temp\\ipykernel_10336\\2487981760.py:9: FutureWarning: The frame.append method is deprecated and will be removed from pandas in a future version. Use pandas.concat instead.\n",
      "  appended_data=appended_data.append(pd_data)\n",
      "C:\\Users\\82105\\AppData\\Local\\Temp\\ipykernel_10336\\2487981760.py:9: FutureWarning: The frame.append method is deprecated and will be removed from pandas in a future version. Use pandas.concat instead.\n",
      "  appended_data=appended_data.append(pd_data)\n"
     ]
    }
   ],
   "source": [
    "# 크롤링 결과가 담긴 엑셀 파일 통합하기\n",
    "\n",
    "import pandas as pd\n",
    "excel_names=['C:\\Myexam\\melon.xlsx','C:\\Myexam\\genie.xlsx','C:/Myexam/bugs.xlsx']\n",
    "\n",
    "appended_data=pd.DataFrame()\n",
    "for name in excel_names:\n",
    "    pd_data=pd.read_excel(name)\n",
    "    appended_data=appended_data.append(pd_data)"
   ]
  },
  {
   "cell_type": "code",
   "execution_count": 4,
   "id": "78616f03",
   "metadata": {},
   "outputs": [
    {
     "name": "stdout",
     "output_type": "stream",
     "text": [
      "<class 'pandas.core.frame.DataFrame'>\n",
      "Int64Index: 250 entries, 0 to 99\n",
      "Data columns (total 4 columns):\n",
      " #   Column  Non-Null Count  Dtype \n",
      "---  ------  --------------  ----- \n",
      " 0   서비스     250 non-null    object\n",
      " 1   순위      250 non-null    int64 \n",
      " 2   타이틀     250 non-null    object\n",
      " 3   가수      250 non-null    object\n",
      "dtypes: int64(1), object(3)\n",
      "memory usage: 9.8+ KB\n"
     ]
    }
   ],
   "source": [
    "#크롤링 결과 확인하기\n",
    "appended_data.info()"
   ]
  },
  {
   "cell_type": "code",
   "execution_count": 8,
   "id": "c5f80696",
   "metadata": {},
   "outputs": [],
   "source": [
    "#통합한 크롤링 결과를 엑셀 파일로 저장하기\n",
    "appended_data.to_excel('C:/Myexam/total.xlsx',index=False)"
   ]
  }
 ],
 "metadata": {
  "kernelspec": {
   "display_name": "Python 3 (ipykernel)",
   "language": "python",
   "name": "python3"
  },
  "language_info": {
   "codemirror_mode": {
    "name": "ipython",
    "version": 3
   },
   "file_extension": ".py",
   "mimetype": "text/x-python",
   "name": "python",
   "nbconvert_exporter": "python",
   "pygments_lexer": "ipython3",
   "version": "3.9.12"
  }
 },
 "nbformat": 4,
 "nbformat_minor": 5
}
