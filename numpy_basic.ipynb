{
 "cells": [
  {
   "cell_type": "markdown",
   "id": "754bce09",
   "metadata": {},
   "source": [
    "## 파이선 리스트\n",
    ": 가변형, 시퀀스(str, list, tuple)=[+, *(반복연산자), 중첩, 슬라이싱, 인덱싱][]\n",
    "    - 단점 : 동작 속도가 느리다. 콤마로 요소 분리, 구별\n",
    "\n",
    "### numpy : 수식 라이브러리, 수칙연산, 배열객체\n",
    "\n",
    "    - 동작 속도가 빠르다 ./연속적인 메모리/한가지 타입만 처리가능\n",
    "    - 행렬이나 일반적으로 대규모 다차원 배열을 쉽게 처리할 수 있도록 지원하는 파이썬의 라이브러리"
   ]
  },
  {
   "cell_type": "markdown",
   "id": "9f894864",
   "metadata": {},
   "source": [
    "1)np.array로 객체 생성 \\\n",
    "2)np.arange로 객체 생성"
   ]
  },
  {
   "cell_type": "code",
   "execution_count": 2,
   "id": "593a6902",
   "metadata": {},
   "outputs": [],
   "source": [
    "#ndarry(shape[,dtype, buffer, offset,...])\n",
    "\n",
    "import numpy as np\n",
    "\n"
   ]
  },
  {
   "cell_type": "code",
   "execution_count": 3,
   "id": "da3a07c3",
   "metadata": {},
   "outputs": [],
   "source": [
    "a = np.array([0,1,2,3,4,5]) #=ndarray"
   ]
  },
  {
   "cell_type": "code",
   "execution_count": 4,
   "id": "09169f04",
   "metadata": {
    "scrolled": true
   },
   "outputs": [
    {
     "name": "stdout",
     "output_type": "stream",
     "text": [
      "[0 1 2 3 4 5]\n",
      "<class 'numpy.ndarray'>\n",
      "int32\n"
     ]
    }
   ],
   "source": [
    "print(a)#출력확인 ',' 없음\n",
    "print(type(a))\n",
    "print(a.dtype)#a 객체가 가진 데이터 타입"
   ]
  },
  {
   "cell_type": "code",
   "execution_count": 5,
   "id": "cf6d3e69",
   "metadata": {
    "scrolled": false
   },
   "outputs": [
    {
     "name": "stdout",
     "output_type": "stream",
     "text": [
      "['__class__', '__class_getitem__', '__contains__', '__delattr__', '__delitem__', '__dir__', '__doc__', '__eq__', '__format__', '__ge__', '__getattribute__', '__getitem__', '__gt__', '__hash__', '__init__', '__init_subclass__', '__ior__', '__iter__', '__le__', '__len__', '__lt__', '__ne__', '__new__', '__or__', '__reduce__', '__reduce_ex__', '__repr__', '__reversed__', '__ror__', '__setattr__', '__setitem__', '__sizeof__', '__str__', '__subclasshook__', 'clear', 'copy', 'fromkeys', 'get', 'items', 'keys', 'pop', 'popitem', 'setdefault', 'update', 'values']\n"
     ]
    },
    {
     "data": {
      "text/plain": [
       "dict_keys(['?', 0, 'byte', 'b', 1, 'ubyte', 'B', 2, 'short', 'h', 3, 'ushort', 'H', 4, 'i', 5, 'uint', 'I', 6, 'intp', 'p', 9, 'uintp', 'P', 10, 'long', 'l', 7, 'L', 8, 'longlong', 'q', 'ulonglong', 'Q', 'half', 'e', 23, 'f', 11, 'double', 'd', 12, 'longdouble', 'g', 13, 'cfloat', 'F', 14, 'cdouble', 'D', 15, 'clongdouble', 'G', 16, 'O', 17, 'S', 18, 'unicode', 'U', 19, 'void', 'V', 20, 'M', 21, 'm', 22, 'bool8', 'b1', 'int64', 'i8', 'uint64', 'u8', 'float16', 'f2', 'float32', 'f4', 'float64', 'f8', 'complex64', 'c8', 'complex128', 'c16', 'object0', 'bytes0', 'str0', 'void0', 'datetime64', 'M8', 'timedelta64', 'm8', 'Bytes0', 'Datetime64', 'Str0', 'Uint64', 'int32', 'i4', 'uint32', 'u4', 'int16', 'i2', 'uint16', 'u2', 'int8', 'i1', 'uint8', 'u1', 'complex_', 'int0', 'uint0', 'single', 'csingle', 'singlecomplex', 'float_', 'intc', 'uintc', 'int_', 'longfloat', 'clongfloat', 'longcomplex', 'bool_', 'bytes_', 'string_', 'str_', 'unicode_', 'object_', 'int', 'float', 'complex', 'bool', 'object', 'str', 'bytes', 'a'])"
      ]
     },
     "execution_count": 5,
     "metadata": {},
     "output_type": "execute_result"
    }
   ],
   "source": [
    "print(dir(np.sctypeDict))\n",
    "np.sctypeDict.keys() #numpy에서 사용되는 데이터 타입"
   ]
  },
  {
   "cell_type": "code",
   "execution_count": 6,
   "id": "8f69a52c",
   "metadata": {},
   "outputs": [
    {
     "name": "stdout",
     "output_type": "stream",
     "text": [
      "[0. 1. 2. 3. 4. 5.]\n",
      "<class 'numpy.ndarray'>\n",
      "float64\n"
     ]
    }
   ],
   "source": [
    "a = np.array([0.0,1.0,2.0,3.0,4.0,5.0]) # 출력 확인 ','가 없음!\n",
    "print(a)\n",
    "print(type(a))\n",
    "print(a.dtype)#a 객체가 가진 데이터 타입 / 0,1 = bit * 8 =1byte=주소생성(-128~127)\n",
    "#주소 생성 -> 메모리 할당 -> 값 대입\n",
    "\n",
    "\n",
    "#불리언 bool(1), byte(1)\n",
    "#정수형 short(2) -> int32(4)->int64(8) -> long(8)~(16)\n",
    "#실수형 floot(4) ='float32','f4'->float(8)->double(8)\n",
    "#문자와 문자열 -> str\n",
    "\n",
    "#ex) int32 = 정수형 32bit , i4 = 정수형 4byte ,\n",
    "# float64= f8 =실수형 64bit =실수형 8byte\n"
   ]
  },
  {
   "cell_type": "code",
   "execution_count": 7,
   "id": "b5fb9579",
   "metadata": {},
   "outputs": [
    {
     "name": "stdout",
     "output_type": "stream",
     "text": [
      "[0 1 2 3 4 5 6 7 8 9]\n",
      "<class 'numpy.ndarray'>\n"
     ]
    }
   ],
   "source": [
    "a = np.arange(10 )#0~9 #,로 구분하지 않는다.\n",
    "print(a)\n",
    "print(type(a))"
   ]
  },
  {
   "cell_type": "code",
   "execution_count": 8,
   "id": "ef1681cb",
   "metadata": {},
   "outputs": [
    {
     "data": {
      "text/plain": [
       "[1, 2, 3, 4, 5]"
      ]
     },
     "execution_count": 8,
     "metadata": {},
     "output_type": "execute_result"
    }
   ],
   "source": [
    "a=[1,2,3,4,5]# numpy 아닐 떄는 ',' 출력\n",
    "a"
   ]
  },
  {
   "cell_type": "markdown",
   "id": "ba195b46",
   "metadata": {},
   "source": [
    "3) ndarry(shape[,dtype, buffer, offset,...])----> shape 관련\\\n",
    "3-1: 차원 (Rank, Dimension)을 []로 갯수로 늘린다.[[[]]]\n",
    "[[[a]]] 3차원 [[b ]]2차원\\\n",
    "아벨 선생이 4차원 이상은 사람이 연산 못해 -> 컴퓨터\n",
    "대상 -> 특징 추출 (x_독립변수, y_종속변수(정답라벨))\\\n",
    "3-2 차원의 종류\\\n",
    "    1차원 shape(x,)\\\n",
    "    2차원 shape(x,y), 행렬(matrix)\\\n",
    "    3차원 shape(x,y,z), (행, 렬, 면 ) ->(면, 행, 렬) 변환작업필요\\\n",
    "    ...n차원 : (x,y,z,,,,,,)\\"
   ]
  },
  {
   "cell_type": "code",
   "execution_count": 9,
   "id": "765752a8",
   "metadata": {},
   "outputs": [
    {
     "name": "stdout",
     "output_type": "stream",
     "text": [
      "[ 0  1  2  3  4  5  6  7  8  9 10 11]\n",
      "(12,)\n",
      "<class 'tuple'>\n",
      "12\n"
     ]
    }
   ],
   "source": [
    "# 1차원 shape(x, )\n",
    "a=np.arange(12)\n",
    "print(a)\n",
    "print(a.shape) # (12, ) -> 1차원이야\n",
    "t=a.shape\n",
    "print(type(t))\n",
    "print((a.shape)[0])"
   ]
  },
  {
   "cell_type": "code",
   "execution_count": 10,
   "id": "c617fbd5",
   "metadata": {},
   "outputs": [
    {
     "name": "stdout",
     "output_type": "stream",
     "text": [
      "[[0 1 2]\n",
      " [0 1 2]]\n",
      "(2, 3)\n",
      "2 3\n"
     ]
    }
   ],
   "source": [
    "#2차원 배열의 shape : 행(row, 수직(이미지연산), axis=0)과 열(column, 수평(이미지연산) axis=1)\n",
    "m=np.array([[0,1,2],\n",
    "            [0,1,2]])\n",
    "print(m)\n",
    "print(m.shape) \n",
    "print(m.shape[0],m.shape[1])"
   ]
  },
  {
   "cell_type": "raw",
   "id": "dea9bc92",
   "metadata": {},
   "source": [
    "**상위 axis의 개념 이해**\n",
    "\n",
    "2차원일 경우 : (행,열)\n",
    "3차원일 경우 : (면,행,열)\n",
    "\n",
    "2차원(행,열)일 때\n",
    "axis=0 -> 행, axis=1 ->열을 의미\n",
    "or\n",
    "axis=-2 -> 행, axis =-1 ->열을 의미\n",
    "\n",
    "3차원(면,행,열)일 떄\n",
    "axis =0 ->면, axis=1 ->행, axis=2 ->열을 의미\n",
    "or\n",
    "axis=-3 ->면, axis=-2 ->행, axis=-1 ->열을 의미\n",
    "\n",
    "여기에서 axis에 값을 주면 값에 해당하는 축 기준으로 행동한다고 보면 된다."
   ]
  },
  {
   "cell_type": "code",
   "execution_count": 11,
   "id": "c77610f1",
   "metadata": {},
   "outputs": [
    {
     "name": "stdout",
     "output_type": "stream",
     "text": [
      "[[[0 1 2]\n",
      "  [3 4 5]]\n",
      "\n",
      " [[0 1 2]\n",
      "  [3 4 5]]]\n",
      "(2, 2, 3)\n",
      "2 2 3\n"
     ]
    }
   ],
   "source": [
    "#3차원 배열의 shape :(면,행,열) 2행 3열이 2면이 있는 행열\n",
    "m=np.array([[\n",
    "            [0,1,2],\n",
    "            [3,4,5]],\n",
    "            [[0,1,2],\n",
    "            [3,4,5]]])\n",
    "print(m)\n",
    "print(m.shape) \n",
    "print(m.shape[0],m.shape[1],m.shape[2])"
   ]
  },
  {
   "cell_type": "markdown",
   "id": "405abc53",
   "metadata": {},
   "source": [
    "4)배열과 슬라이싱 _reshape()"
   ]
  },
  {
   "cell_type": "code",
   "execution_count": 12,
   "id": "d5b8515b",
   "metadata": {},
   "outputs": [
    {
     "name": "stdout",
     "output_type": "stream",
     "text": [
      "[[ 0  1  2  3]\n",
      " [ 4  5  6  7]\n",
      " [ 8  9 10 11]]\n",
      "(3, 4)\n"
     ]
    }
   ],
   "source": [
    "#2차원 배열 인덱싱 슬라이싱\n",
    "a=np.arange(12).reshape(3,4) #0~11(12)까지의 수를 3행 4열로 만들어라\n",
    "print(a)\n",
    "print(a.shape)"
   ]
  },
  {
   "cell_type": "code",
   "execution_count": 13,
   "id": "8a44fedb",
   "metadata": {},
   "outputs": [
    {
     "name": "stdout",
     "output_type": "stream",
     "text": [
      "0\n",
      "0\n",
      "9\n",
      "11 11\n"
     ]
    }
   ],
   "source": [
    "#a가 가진 값 0,0,9를 리턴해보자 = index로 접근\n",
    "\n",
    "print(a[0][0])\n",
    "print(a[0,0])\n",
    "print(a[2][1])\n",
    "print(a[2][3],a[2,3])"
   ]
  },
  {
   "cell_type": "code",
   "execution_count": 15,
   "id": "18ffec4c",
   "metadata": {},
   "outputs": [
    {
     "name": "stdout",
     "output_type": "stream",
     "text": [
      "[[ 0  1  2  3]\n",
      " [ 4  5  6  7]\n",
      " [ 8  9 10 11]]\n",
      "\n",
      "[0 1 2 3]\n",
      "\n",
      "[0 1 2 3]\n",
      "\n",
      "[[ 0  1  2]\n",
      " [ 4  5  6]\n",
      " [ 8  9 10]]\n",
      "\n",
      "[[ 1  2  3]\n",
      " [ 5  6  7]\n",
      " [ 9 10 11]]\n",
      "\n",
      "슬라이싱으로 전체 출력 형식을 만들자.\n",
      "[[ 0  1  2  3]\n",
      " [ 4  5  6  7]\n",
      " [ 8  9 10 11]]\n",
      "\n",
      "[[ 0  1  2  3]\n",
      " [ 4  5  6  7]\n",
      " [ 8  9 10 11]]\n"
     ]
    }
   ],
   "source": [
    "#a가 가진 슬라이싱\n",
    "#[ 0  1  2  3]\n",
    "print(a)\n",
    "print()\n",
    "print(a[0])\n",
    "print()\n",
    "print(a[0, :]) # #[행, 열] a[start, end]\n",
    "print()\n",
    "print(a[:,:-1])#행은 모두,, 열은 마지막 열을 제외하겠다\n",
    "print()\n",
    "print(a[:,1:])#첫번쨰 열을 제외하겠다\n",
    "print()\n",
    "print('슬라이싱으로 전체 출력 형식을 만들자.')\n",
    "print(a[:,:])\n",
    "print()\n",
    "print(a[0:,0:])"
   ]
  },
  {
   "cell_type": "code",
   "execution_count": 18,
   "id": "3d2d9cfa",
   "metadata": {},
   "outputs": [
    {
     "name": "stdout",
     "output_type": "stream",
     "text": [
      "\n",
      "[[20 20 20 20]\n",
      " [ 4  5  6  7]\n",
      " [ 8  9 10 11]]\n",
      "\n",
      "[[20 20]\n",
      " [ 8 10]]\n"
     ]
    }
   ],
   "source": [
    "#0행의 모든 데이터를 20으로 변경 후 전체 출력 해보자.\n",
    "a[0]=20\n",
    "print()\n",
    "print(a[:,:])\n",
    "print()\n",
    "print(a[::2,::2])#[start:end-1:step] step 행 열이 step만큼 옮겨감"
   ]
  },
  {
   "cell_type": "code",
   "execution_count": 19,
   "id": "89f72bbe",
   "metadata": {},
   "outputs": [
    {
     "name": "stdout",
     "output_type": "stream",
     "text": [
      "[[20 20 20 20]\n",
      " [ 4  5  6  7]\n",
      " [ 8  9 10 11]]\n",
      "\n",
      "[[20 20]\n",
      " [ 8 11]]\n",
      "\n",
      "[[ 0 20 20  0]\n",
      " [ 4  5  6  7]\n",
      " [ 0  9 10  0]]\n",
      "\n",
      "[[-1 -1 -1 -1]\n",
      " [-1 -1 -1 -1]\n",
      " [-1 -1 -1 -1]]\n"
     ]
    }
   ],
   "source": [
    "#슬라이싱 요소 전체의 값을 변경해보자.\n",
    "print(a[:,:])\n",
    "print()\n",
    "print(a[::2, ::3])\n",
    "print()\n",
    "a[::2, ::3]=0 #꼭짓점에 0\n",
    "print(a[:,:])\n",
    "print()\n",
    "a[:,:]=-1\n",
    "print(a[:,:])"
   ]
  },
  {
   "cell_type": "code",
   "execution_count": 50,
   "id": "779bb54f",
   "metadata": {},
   "outputs": [
    {
     "name": "stdout",
     "output_type": "stream",
     "text": [
      "[[[ 0  1  2]\n",
      "  [ 3  4  5]]\n",
      "\n",
      " [[ 6  7  8]\n",
      "  [ 9 10 11]]] (2, 2, 3)\n"
     ]
    }
   ],
   "source": [
    "#3차원 배열 인덱싱 슬라이싱\n",
    "a=np.arange(12).reshape(2,2,3)\n",
    "print(a, a.shape)"
   ]
  },
  {
   "cell_type": "code",
   "execution_count": 52,
   "id": "1f1a1aa1",
   "metadata": {},
   "outputs": [
    {
     "name": "stdout",
     "output_type": "stream",
     "text": [
      "0\n",
      "0\n",
      "5\n"
     ]
    }
   ],
   "source": [
    "#인덱싱\n",
    "print(a[0][0][0])\n",
    "print(a[0,0,0])\n",
    "\n",
    "#5\n",
    "print(a[0,1,2])"
   ]
  },
  {
   "cell_type": "code",
   "execution_count": 69,
   "id": "1f183241",
   "metadata": {},
   "outputs": [
    {
     "name": "stdout",
     "output_type": "stream",
     "text": [
      "[[[ 0  1  2]\n",
      "  [ 3  4  5]]\n",
      "\n",
      " [[ 6  7  8]\n",
      "  [ 9 10 11]]]\n",
      "\n",
      "[[[ 4  5]]\n",
      "\n",
      " [[10 11]]]\n",
      "\n",
      "[[[6 7]]]\n",
      "[[[4 5]]]\n",
      "[6 7]\n",
      "[4 5]\n",
      "[[[6 7]]]\n",
      "[[[4 5]]]\n",
      "[[6 7]] [[4 5]]\n",
      "[6 7]\n"
     ]
    }
   ],
   "source": [
    "#슬라이싱\n",
    "print(a[ :, :, : ])#전체출력\n",
    "print()\n",
    "print(a[ :,1 :, 1: ])\n",
    "print()\n",
    "#case1 :\n",
    "#6 7\n",
    "print(a[ 1:,   :-1 ,  :2 ])\n",
    "#4 5\n",
    "print(a[ :-1,1 :,1 : ])\n",
    "\n",
    "#case2:\n",
    "#6 7\n",
    "print(a[ 1,  0 ,  :2 ])\n",
    "#4 5\n",
    "print(a[ 0,1,1: ])\n",
    "\n",
    "#case3:\n",
    "print(a[1:,:1,:2])\n",
    "print(a[:1,1:,1:])\n",
    "\n",
    "#case4:\n",
    "print(a[1,:-1,:-1], a[0,1:,1:])\n",
    "\n",
    "#6 7\n",
    "print(a[ 1,  0 ,  :-1 ])"
   ]
  },
  {
   "cell_type": "markdown",
   "id": "5e729b40",
   "metadata": {},
   "source": [
    "5) ☆★불린인덱싱 : 조건식을 이용한 인덱싱, 조건 검색 필터를 사용한 추출값☆★"
   ]
  },
  {
   "cell_type": "code",
   "execution_count": 21,
   "id": "23d44126",
   "metadata": {},
   "outputs": [
    {
     "name": "stdout",
     "output_type": "stream",
     "text": [
      "[1 2 3 4 5 6]\n"
     ]
    }
   ],
   "source": [
    "a=np.array([1,2,3,4,5,6])\n",
    "print(a)"
   ]
  },
  {
   "cell_type": "code",
   "execution_count": 22,
   "id": "0ab71e5c",
   "metadata": {},
   "outputs": [
    {
     "name": "stdout",
     "output_type": "stream",
     "text": [
      "[False False  True  True  True  True]\n",
      "[3 4 5 6]\n"
     ]
    }
   ],
   "source": [
    "print(a>2)\n",
    "#배열의 객체 a에서 2보다 큰 값을 배열로 리턴\n",
    "print(a[a>2]) # 이미지 -> 빨간사과 -> 이상값(노이즈) 추출해서 변경하고 싶다."
   ]
  },
  {
   "cell_type": "code",
   "execution_count": 23,
   "id": "ed6d8683",
   "metadata": {},
   "outputs": [
    {
     "name": "stdout",
     "output_type": "stream",
     "text": [
      "[ True False  True  True  True  True]\n",
      "[1 3 4 5 6]\n"
     ]
    }
   ],
   "source": [
    "bool_index=np.array([True, False, True, True, True, True])\n",
    "print(bool_index)\n",
    "print(a[bool_index])"
   ]
  },
  {
   "cell_type": "code",
   "execution_count": 24,
   "id": "9b69de48",
   "metadata": {},
   "outputs": [
    {
     "name": "stdout",
     "output_type": "stream",
     "text": [
      "[1 2 4 5 6]\n",
      "[3 4 5]\n",
      "[2 4 6]\n",
      "[1 2 3] 3.5\n"
     ]
    }
   ],
   "source": [
    "#배열 a에서 3이 아닌 요소를 추출\n",
    "print(a[a!=3])\n",
    "\n",
    "\n",
    "\n",
    "#2보다 크고 6보다 작은 요소를 추출\n",
    "# ***&&가 아니라 &*** 주의 \n",
    "print(a[(a>2) & (6>a)])\n",
    "\n",
    "#짝수만 추출\n",
    "print(a[a%2==0])\n",
    "\n",
    "#평균보다 작은 값을 추출해보자.\n",
    "#평균 계산 함수 mean() ,, avr(a) ->sql문과 헷갈리지 말기\n",
    "print(a[a<a.mean()],a.mean())"
   ]
  },
  {
   "cell_type": "markdown",
   "id": "c4492ba9",
   "metadata": {},
   "source": [
    "6) 배열의 형상 다루기 : reshape(), flatten()(편평화), transpose()(전치)"
   ]
  },
  {
   "cell_type": "code",
   "execution_count": 35,
   "id": "617b5c26",
   "metadata": {},
   "outputs": [
    {
     "name": "stdout",
     "output_type": "stream",
     "text": [
      "[[ 0  1  2  3]\n",
      " [ 4  5  6  7]\n",
      " [ 8  9 10 11]] (3, 4)\n",
      "[ 0  1  2  3  4  5  6  7  8  9 10 11] (12,)\n"
     ]
    }
   ],
   "source": [
    "#flatten(): 다차원 배열을 1차원으로 만든다.\n",
    "a=np.arange(12).reshape(3,4)\n",
    "print(a,a.shape)\n",
    "\n",
    "f=a.flatten() #(3,4)---->(12,)\n",
    "print(f,f.shape)\n"
   ]
  },
  {
   "cell_type": "code",
   "execution_count": 28,
   "id": "60ea263a",
   "metadata": {
    "scrolled": true
   },
   "outputs": [
    {
     "name": "stdout",
     "output_type": "stream",
     "text": [
      "[[ 8  9 10 11]\n",
      " [ 4  5  6  7]\n",
      " [ 0  1  2  3]]\n",
      "\n",
      "[[ 3  2  1  0]\n",
      " [ 7  6  5  4]\n",
      " [11 10  9  8]]\n",
      "\n",
      "[[11 10  9  8]\n",
      " [ 7  6  5  4]\n",
      " [ 3  2  1  0]]\n",
      "\n",
      "--------------------\n"
     ]
    }
   ],
   "source": [
    "#데이터 순서를 거꾸로 변경\n",
    "#----------a[행:렬:step]-------------#\n",
    "print(a[: : -1])#행의 순서를 거꾸로 변경\n",
    "print()\n",
    "print(a[:, : : -1])#열의 순서를 거꾸로 변경\n",
    "print()\n",
    "print(a[::-1, ::-1]) #행과 열의 순서를 거꾸로 변경\n",
    "print()\n",
    "print('-'*20)"
   ]
  },
  {
   "cell_type": "code",
   "execution_count": 29,
   "id": "eb03c57d",
   "metadata": {},
   "outputs": [
    {
     "name": "stdout",
     "output_type": "stream",
     "text": [
      "[[ 0  4  8]\n",
      " [ 1  5  9]\n",
      " [ 2  6 10]\n",
      " [ 3  7 11]] (4, 3)\n",
      "[[ 0  4  8]\n",
      " [ 1  5  9]\n",
      " [ 2  6 10]\n",
      " [ 3  7 11]]\n"
     ]
    }
   ],
   "source": [
    "# transpose() : 전치행렬, 행과 열을 서로 맞바꾸는 함수\n",
    "t=a.transpose()\n",
    "print(t, t.shape) # (3,4)---->(4,3), (x,y)---->(y,x)\n",
    "print(a.T) #transpose() 함수와 동일한 결과"
   ]
  },
  {
   "cell_type": "code",
   "execution_count": 30,
   "id": "a6039e7f",
   "metadata": {},
   "outputs": [
    {
     "name": "stdout",
     "output_type": "stream",
     "text": [
      "[[0 0 0 0]\n",
      " [0 0 0 0]\n",
      " [0 0 0 0]]\n"
     ]
    }
   ],
   "source": [
    "#print(help(dir(a.T)))\n",
    "\n",
    "a.flat=0# 임시로 1차원으로 변경 후 값을 0으로 대입받고 차원을 다시 리턴한다.\n",
    "print(a)"
   ]
  },
  {
   "cell_type": "markdown",
   "id": "8d8ce84d",
   "metadata": {},
   "source": [
    "6) numpy의 속성(Attribute) : 멤버변수, 메서드\n",
    "dtype, shape, ndim, flat, T, size, nbytes"
   ]
  },
  {
   "cell_type": "code",
   "execution_count": 36,
   "id": "80888311",
   "metadata": {},
   "outputs": [
    {
     "name": "stdout",
     "output_type": "stream",
     "text": [
      "[[ 0  1  2  3]\n",
      " [ 4  5  6  7]\n",
      " [ 8  9 10 11]] (3, 4)\n",
      "int32\n",
      "2\n",
      "[[ 0  4  8]\n",
      " [ 1  5  9]\n",
      " [ 2  6 10]\n",
      " [ 3  7 11]]\n",
      "12\n",
      "48\n",
      "[[1 1 1 1]\n",
      " [1 1 1 1]\n",
      " [1 1 1 1]]\n"
     ]
    }
   ],
   "source": [
    "d = np.arange(12).reshape(3,4)\n",
    "print(d,d.shape)\n",
    "print(d.dtype)  # int32 or int64\n",
    "print(d.ndim)   # 2차원  ==> print(len(d.shape)) 와 동일\n",
    "print(d.T)      # transpose()함수와 동일한 결과, 전치행렬\n",
    "print(d.size)   # 12개 , 요소의 갯수\n",
    "print(d.nbytes) # 48 bytes : 32bit(4 byte) * 12 \n",
    "d.flat = 1\n",
    "print(d)\n"
   ]
  },
  {
   "cell_type": "code",
   "execution_count": 45,
   "id": "6dae1422",
   "metadata": {},
   "outputs": [
    {
     "name": "stdout",
     "output_type": "stream",
     "text": [
      "[[ 0  1  2  3]\n",
      " [ 4  5  6  7]\n",
      " [ 8  9 10 11]] (3, 4)\n",
      "11 11\n",
      "\n",
      "0 0\n",
      "\n",
      "66\n",
      "5.5\n",
      "3.452052529534663\n",
      "11.916666666666666\n",
      "5.5\n",
      "25%: 2.75\n",
      "50%: 5.5\n",
      "75%: 8.25\n"
     ]
    }
   ],
   "source": [
    "#numpy 통계 함수들\n",
    "a = np.arange(12).reshape(3,4)\n",
    "print(a,a.shape)\n",
    "\n",
    "print(a.max(), np.max(a))#최대값\n",
    "print()\n",
    "print(a.min(),np.min(a)) #최소값\n",
    "print()\n",
    "\n",
    "print(a.sum())#합\n",
    "print(a.mean())#평균\n",
    "\n",
    "print(a.std())#표준편차\n",
    "print(a.var())#분산\n",
    "print(np.median(a))#중위수\n",
    "\n",
    "\n",
    "#사분위 수\n",
    "print('25%:', np.percentile(a,25)) #1사분위수(Q1)\n",
    "print('50%:', np.percentile(a,50))#2사분위수(Q1), median()과 같은 값\n",
    "print('75%:', np.percentile(a,75)) #13사분위수(Q3)\n",
    "\n"
   ]
  },
  {
   "cell_type": "code",
   "execution_count": 44,
   "id": "a3519151",
   "metadata": {},
   "outputs": [
    {
     "data": {
      "text/plain": [
       "['ALLOW_THREADS',\n",
       " 'AxisError',\n",
       " 'BUFSIZE',\n",
       " 'Bytes0',\n",
       " 'CLIP',\n",
       " 'ComplexWarning',\n",
       " 'DataSource',\n",
       " 'Datetime64',\n",
       " 'ERR_CALL',\n",
       " 'ERR_DEFAULT',\n",
       " 'ERR_IGNORE',\n",
       " 'ERR_LOG',\n",
       " 'ERR_PRINT',\n",
       " 'ERR_RAISE',\n",
       " 'ERR_WARN',\n",
       " 'FLOATING_POINT_SUPPORT',\n",
       " 'FPE_DIVIDEBYZERO',\n",
       " 'FPE_INVALID',\n",
       " 'FPE_OVERFLOW',\n",
       " 'FPE_UNDERFLOW',\n",
       " 'False_',\n",
       " 'Inf',\n",
       " 'Infinity',\n",
       " 'MAXDIMS',\n",
       " 'MAY_SHARE_BOUNDS',\n",
       " 'MAY_SHARE_EXACT',\n",
       " 'MachAr',\n",
       " 'ModuleDeprecationWarning',\n",
       " 'NAN',\n",
       " 'NINF',\n",
       " 'NZERO',\n",
       " 'NaN',\n",
       " 'PINF',\n",
       " 'PZERO',\n",
       " 'RAISE',\n",
       " 'RankWarning',\n",
       " 'SHIFT_DIVIDEBYZERO',\n",
       " 'SHIFT_INVALID',\n",
       " 'SHIFT_OVERFLOW',\n",
       " 'SHIFT_UNDERFLOW',\n",
       " 'ScalarType',\n",
       " 'Str0',\n",
       " 'Tester',\n",
       " 'TooHardError',\n",
       " 'True_',\n",
       " 'UFUNC_BUFSIZE_DEFAULT',\n",
       " 'UFUNC_PYVALS_NAME',\n",
       " 'Uint64',\n",
       " 'VisibleDeprecationWarning',\n",
       " 'WRAP',\n",
       " '_NoValue',\n",
       " '_UFUNC_API',\n",
       " '__NUMPY_SETUP__',\n",
       " '__all__',\n",
       " '__builtins__',\n",
       " '__cached__',\n",
       " '__config__',\n",
       " '__deprecated_attrs__',\n",
       " '__dir__',\n",
       " '__doc__',\n",
       " '__expired_functions__',\n",
       " '__file__',\n",
       " '__getattr__',\n",
       " '__git_version__',\n",
       " '__loader__',\n",
       " '__mkl_version__',\n",
       " '__name__',\n",
       " '__package__',\n",
       " '__path__',\n",
       " '__spec__',\n",
       " '__version__',\n",
       " '_add_newdoc_ufunc',\n",
       " '_distributor_init',\n",
       " '_financial_names',\n",
       " '_globals',\n",
       " '_mat',\n",
       " '_pytesttester',\n",
       " '_version',\n",
       " 'abs',\n",
       " 'absolute',\n",
       " 'add',\n",
       " 'add_docstring',\n",
       " 'add_newdoc',\n",
       " 'add_newdoc_ufunc',\n",
       " 'alen',\n",
       " 'all',\n",
       " 'allclose',\n",
       " 'alltrue',\n",
       " 'amax',\n",
       " 'amin',\n",
       " 'angle',\n",
       " 'any',\n",
       " 'append',\n",
       " 'apply_along_axis',\n",
       " 'apply_over_axes',\n",
       " 'arange',\n",
       " 'arccos',\n",
       " 'arccosh',\n",
       " 'arcsin',\n",
       " 'arcsinh',\n",
       " 'arctan',\n",
       " 'arctan2',\n",
       " 'arctanh',\n",
       " 'argmax',\n",
       " 'argmin',\n",
       " 'argpartition',\n",
       " 'argsort',\n",
       " 'argwhere',\n",
       " 'around',\n",
       " 'array',\n",
       " 'array2string',\n",
       " 'array_equal',\n",
       " 'array_equiv',\n",
       " 'array_repr',\n",
       " 'array_split',\n",
       " 'array_str',\n",
       " 'asanyarray',\n",
       " 'asarray',\n",
       " 'asarray_chkfinite',\n",
       " 'ascontiguousarray',\n",
       " 'asfarray',\n",
       " 'asfortranarray',\n",
       " 'asmatrix',\n",
       " 'asscalar',\n",
       " 'atleast_1d',\n",
       " 'atleast_2d',\n",
       " 'atleast_3d',\n",
       " 'average',\n",
       " 'bartlett',\n",
       " 'base_repr',\n",
       " 'binary_repr',\n",
       " 'bincount',\n",
       " 'bitwise_and',\n",
       " 'bitwise_not',\n",
       " 'bitwise_or',\n",
       " 'bitwise_xor',\n",
       " 'blackman',\n",
       " 'block',\n",
       " 'bmat',\n",
       " 'bool8',\n",
       " 'bool_',\n",
       " 'broadcast',\n",
       " 'broadcast_arrays',\n",
       " 'broadcast_shapes',\n",
       " 'broadcast_to',\n",
       " 'busday_count',\n",
       " 'busday_offset',\n",
       " 'busdaycalendar',\n",
       " 'byte',\n",
       " 'byte_bounds',\n",
       " 'bytes0',\n",
       " 'bytes_',\n",
       " 'c_',\n",
       " 'can_cast',\n",
       " 'cast',\n",
       " 'cbrt',\n",
       " 'cdouble',\n",
       " 'ceil',\n",
       " 'cfloat',\n",
       " 'char',\n",
       " 'character',\n",
       " 'chararray',\n",
       " 'choose',\n",
       " 'clip',\n",
       " 'clongdouble',\n",
       " 'clongfloat',\n",
       " 'column_stack',\n",
       " 'common_type',\n",
       " 'compare_chararrays',\n",
       " 'compat',\n",
       " 'complex128',\n",
       " 'complex64',\n",
       " 'complex_',\n",
       " 'complexfloating',\n",
       " 'compress',\n",
       " 'concatenate',\n",
       " 'conj',\n",
       " 'conjugate',\n",
       " 'convolve',\n",
       " 'copy',\n",
       " 'copysign',\n",
       " 'copyto',\n",
       " 'core',\n",
       " 'corrcoef',\n",
       " 'correlate',\n",
       " 'cos',\n",
       " 'cosh',\n",
       " 'count_nonzero',\n",
       " 'cov',\n",
       " 'cross',\n",
       " 'csingle',\n",
       " 'ctypeslib',\n",
       " 'cumprod',\n",
       " 'cumproduct',\n",
       " 'cumsum',\n",
       " 'datetime64',\n",
       " 'datetime_as_string',\n",
       " 'datetime_data',\n",
       " 'deg2rad',\n",
       " 'degrees',\n",
       " 'delete',\n",
       " 'deprecate',\n",
       " 'deprecate_with_doc',\n",
       " 'diag',\n",
       " 'diag_indices',\n",
       " 'diag_indices_from',\n",
       " 'diagflat',\n",
       " 'diagonal',\n",
       " 'diff',\n",
       " 'digitize',\n",
       " 'disp',\n",
       " 'divide',\n",
       " 'divmod',\n",
       " 'dot',\n",
       " 'double',\n",
       " 'dsplit',\n",
       " 'dstack',\n",
       " 'dtype',\n",
       " 'e',\n",
       " 'ediff1d',\n",
       " 'einsum',\n",
       " 'einsum_path',\n",
       " 'emath',\n",
       " 'empty',\n",
       " 'empty_like',\n",
       " 'equal',\n",
       " 'errstate',\n",
       " 'euler_gamma',\n",
       " 'exp',\n",
       " 'exp2',\n",
       " 'expand_dims',\n",
       " 'expm1',\n",
       " 'extract',\n",
       " 'eye',\n",
       " 'fabs',\n",
       " 'fastCopyAndTranspose',\n",
       " 'fft',\n",
       " 'fill_diagonal',\n",
       " 'find_common_type',\n",
       " 'finfo',\n",
       " 'fix',\n",
       " 'flatiter',\n",
       " 'flatnonzero',\n",
       " 'flexible',\n",
       " 'flip',\n",
       " 'fliplr',\n",
       " 'flipud',\n",
       " 'float16',\n",
       " 'float32',\n",
       " 'float64',\n",
       " 'float_',\n",
       " 'float_power',\n",
       " 'floating',\n",
       " 'floor',\n",
       " 'floor_divide',\n",
       " 'fmax',\n",
       " 'fmin',\n",
       " 'fmod',\n",
       " 'format_float_positional',\n",
       " 'format_float_scientific',\n",
       " 'format_parser',\n",
       " 'frexp',\n",
       " 'frombuffer',\n",
       " 'fromfile',\n",
       " 'fromfunction',\n",
       " 'fromiter',\n",
       " 'frompyfunc',\n",
       " 'fromregex',\n",
       " 'fromstring',\n",
       " 'full',\n",
       " 'full_like',\n",
       " 'gcd',\n",
       " 'generic',\n",
       " 'genfromtxt',\n",
       " 'geomspace',\n",
       " 'get_array_wrap',\n",
       " 'get_include',\n",
       " 'get_printoptions',\n",
       " 'getbufsize',\n",
       " 'geterr',\n",
       " 'geterrcall',\n",
       " 'geterrobj',\n",
       " 'gradient',\n",
       " 'greater',\n",
       " 'greater_equal',\n",
       " 'half',\n",
       " 'hamming',\n",
       " 'hanning',\n",
       " 'heaviside',\n",
       " 'histogram',\n",
       " 'histogram2d',\n",
       " 'histogram_bin_edges',\n",
       " 'histogramdd',\n",
       " 'hsplit',\n",
       " 'hstack',\n",
       " 'hypot',\n",
       " 'i0',\n",
       " 'identity',\n",
       " 'iinfo',\n",
       " 'imag',\n",
       " 'in1d',\n",
       " 'index_exp',\n",
       " 'indices',\n",
       " 'inexact',\n",
       " 'inf',\n",
       " 'info',\n",
       " 'infty',\n",
       " 'inner',\n",
       " 'insert',\n",
       " 'int0',\n",
       " 'int16',\n",
       " 'int32',\n",
       " 'int64',\n",
       " 'int8',\n",
       " 'int_',\n",
       " 'intc',\n",
       " 'integer',\n",
       " 'interp',\n",
       " 'intersect1d',\n",
       " 'intp',\n",
       " 'invert',\n",
       " 'is_busday',\n",
       " 'isclose',\n",
       " 'iscomplex',\n",
       " 'iscomplexobj',\n",
       " 'isfinite',\n",
       " 'isfortran',\n",
       " 'isin',\n",
       " 'isinf',\n",
       " 'isnan',\n",
       " 'isnat',\n",
       " 'isneginf',\n",
       " 'isposinf',\n",
       " 'isreal',\n",
       " 'isrealobj',\n",
       " 'isscalar',\n",
       " 'issctype',\n",
       " 'issubclass_',\n",
       " 'issubdtype',\n",
       " 'issubsctype',\n",
       " 'iterable',\n",
       " 'ix_',\n",
       " 'kaiser',\n",
       " 'kron',\n",
       " 'lcm',\n",
       " 'ldexp',\n",
       " 'left_shift',\n",
       " 'less',\n",
       " 'less_equal',\n",
       " 'lexsort',\n",
       " 'lib',\n",
       " 'linalg',\n",
       " 'linspace',\n",
       " 'little_endian',\n",
       " 'load',\n",
       " 'loads',\n",
       " 'loadtxt',\n",
       " 'log',\n",
       " 'log10',\n",
       " 'log1p',\n",
       " 'log2',\n",
       " 'logaddexp',\n",
       " 'logaddexp2',\n",
       " 'logical_and',\n",
       " 'logical_not',\n",
       " 'logical_or',\n",
       " 'logical_xor',\n",
       " 'logspace',\n",
       " 'longcomplex',\n",
       " 'longdouble',\n",
       " 'longfloat',\n",
       " 'longlong',\n",
       " 'lookfor',\n",
       " 'ma',\n",
       " 'mafromtxt',\n",
       " 'mask_indices',\n",
       " 'mat',\n",
       " 'math',\n",
       " 'matmul',\n",
       " 'matrix',\n",
       " 'matrixlib',\n",
       " 'max',\n",
       " 'maximum',\n",
       " 'maximum_sctype',\n",
       " 'may_share_memory',\n",
       " 'mean',\n",
       " 'median',\n",
       " 'memmap',\n",
       " 'meshgrid',\n",
       " 'mgrid',\n",
       " 'min',\n",
       " 'min_scalar_type',\n",
       " 'minimum',\n",
       " 'mintypecode',\n",
       " 'mkl',\n",
       " 'mod',\n",
       " 'modf',\n",
       " 'moveaxis',\n",
       " 'msort',\n",
       " 'multiply',\n",
       " 'nan',\n",
       " 'nan_to_num',\n",
       " 'nanargmax',\n",
       " 'nanargmin',\n",
       " 'nancumprod',\n",
       " 'nancumsum',\n",
       " 'nanmax',\n",
       " 'nanmean',\n",
       " 'nanmedian',\n",
       " 'nanmin',\n",
       " 'nanpercentile',\n",
       " 'nanprod',\n",
       " 'nanquantile',\n",
       " 'nanstd',\n",
       " 'nansum',\n",
       " 'nanvar',\n",
       " 'nbytes',\n",
       " 'ndarray',\n",
       " 'ndenumerate',\n",
       " 'ndfromtxt',\n",
       " 'ndim',\n",
       " 'ndindex',\n",
       " 'nditer',\n",
       " 'negative',\n",
       " 'nested_iters',\n",
       " 'newaxis',\n",
       " 'nextafter',\n",
       " 'nonzero',\n",
       " 'not_equal',\n",
       " 'numarray',\n",
       " 'number',\n",
       " 'obj2sctype',\n",
       " 'object0',\n",
       " 'object_',\n",
       " 'ogrid',\n",
       " 'oldnumeric',\n",
       " 'ones',\n",
       " 'ones_like',\n",
       " 'os',\n",
       " 'outer',\n",
       " 'packbits',\n",
       " 'pad',\n",
       " 'partition',\n",
       " 'percentile',\n",
       " 'pi',\n",
       " 'piecewise',\n",
       " 'place',\n",
       " 'poly',\n",
       " 'poly1d',\n",
       " 'polyadd',\n",
       " 'polyder',\n",
       " 'polydiv',\n",
       " 'polyfit',\n",
       " 'polyint',\n",
       " 'polymul',\n",
       " 'polynomial',\n",
       " 'polysub',\n",
       " 'polyval',\n",
       " 'positive',\n",
       " 'power',\n",
       " 'printoptions',\n",
       " 'prod',\n",
       " 'product',\n",
       " 'promote_types',\n",
       " 'ptp',\n",
       " 'put',\n",
       " 'put_along_axis',\n",
       " 'putmask',\n",
       " 'quantile',\n",
       " 'r_',\n",
       " 'rad2deg',\n",
       " 'radians',\n",
       " 'random',\n",
       " 'ravel',\n",
       " 'ravel_multi_index',\n",
       " 'real',\n",
       " 'real_if_close',\n",
       " 'rec',\n",
       " 'recarray',\n",
       " 'recfromcsv',\n",
       " 'recfromtxt',\n",
       " 'reciprocal',\n",
       " 'record',\n",
       " 'remainder',\n",
       " 'repeat',\n",
       " 'require',\n",
       " 'reshape',\n",
       " 'resize',\n",
       " 'result_type',\n",
       " 'right_shift',\n",
       " 'rint',\n",
       " 'roll',\n",
       " 'rollaxis',\n",
       " 'roots',\n",
       " 'rot90',\n",
       " 'round',\n",
       " 'round_',\n",
       " 'row_stack',\n",
       " 's_',\n",
       " 'safe_eval',\n",
       " 'save',\n",
       " 'savetxt',\n",
       " 'savez',\n",
       " 'savez_compressed',\n",
       " 'sctype2char',\n",
       " 'sctypeDict',\n",
       " 'sctypes',\n",
       " 'searchsorted',\n",
       " 'select',\n",
       " 'set_numeric_ops',\n",
       " 'set_printoptions',\n",
       " 'set_string_function',\n",
       " 'setbufsize',\n",
       " 'setdiff1d',\n",
       " 'seterr',\n",
       " 'seterrcall',\n",
       " 'seterrobj',\n",
       " 'setxor1d',\n",
       " 'shape',\n",
       " 'shares_memory',\n",
       " 'short',\n",
       " 'show_config',\n",
       " 'sign',\n",
       " 'signbit',\n",
       " 'signedinteger',\n",
       " 'sin',\n",
       " 'sinc',\n",
       " 'single',\n",
       " 'singlecomplex',\n",
       " 'sinh',\n",
       " 'size',\n",
       " 'sometrue',\n",
       " 'sort',\n",
       " 'sort_complex',\n",
       " 'source',\n",
       " 'spacing',\n",
       " 'split',\n",
       " 'sqrt',\n",
       " 'square',\n",
       " 'squeeze',\n",
       " 'stack',\n",
       " 'std',\n",
       " 'str0',\n",
       " 'str_',\n",
       " 'string_',\n",
       " 'subtract',\n",
       " 'sum',\n",
       " 'swapaxes',\n",
       " 'sys',\n",
       " 'take',\n",
       " 'take_along_axis',\n",
       " 'tan',\n",
       " 'tanh',\n",
       " 'tensordot',\n",
       " 'test',\n",
       " 'testing',\n",
       " 'tile',\n",
       " 'timedelta64',\n",
       " 'trace',\n",
       " 'tracemalloc_domain',\n",
       " 'transpose',\n",
       " 'trapz',\n",
       " 'tri',\n",
       " 'tril',\n",
       " 'tril_indices',\n",
       " 'tril_indices_from',\n",
       " 'trim_zeros',\n",
       " 'triu',\n",
       " 'triu_indices',\n",
       " 'triu_indices_from',\n",
       " 'true_divide',\n",
       " 'trunc',\n",
       " 'typecodes',\n",
       " 'typename',\n",
       " 'ubyte',\n",
       " 'ufunc',\n",
       " 'uint',\n",
       " 'uint0',\n",
       " 'uint16',\n",
       " 'uint32',\n",
       " 'uint64',\n",
       " 'uint8',\n",
       " 'uintc',\n",
       " 'uintp',\n",
       " 'ulonglong',\n",
       " 'unicode_',\n",
       " 'union1d',\n",
       " 'unique',\n",
       " 'unpackbits',\n",
       " 'unravel_index',\n",
       " 'unsignedinteger',\n",
       " 'unwrap',\n",
       " 'use_hugepage',\n",
       " 'ushort',\n",
       " 'vander',\n",
       " 'var',\n",
       " 'vdot',\n",
       " 'vectorize',\n",
       " 'version',\n",
       " 'void',\n",
       " 'void0',\n",
       " 'vsplit',\n",
       " 'vstack',\n",
       " 'warnings',\n",
       " 'where',\n",
       " 'who',\n",
       " 'zeros',\n",
       " 'zeros_like']"
      ]
     },
     "execution_count": 44,
     "metadata": {},
     "output_type": "execute_result"
    }
   ],
   "source": [
    "dir(np) # median 오타로 오류가 나서 np내의 객체를 확인해봄"
   ]
  },
  {
   "cell_type": "raw",
   "id": "16f3bd75",
   "metadata": {},
   "source": [
    "1)슬라이싱 어려움\n",
    "2)a[행:열:스텝]\n",
    "\n",
    "연습필요!"
   ]
  }
 ],
 "metadata": {
  "kernelspec": {
   "display_name": "Python 3 (ipykernel)",
   "language": "python",
   "name": "python3"
  },
  "language_info": {
   "codemirror_mode": {
    "name": "ipython",
    "version": 3
   },
   "file_extension": ".py",
   "mimetype": "text/x-python",
   "name": "python",
   "nbconvert_exporter": "python",
   "pygments_lexer": "ipython3",
   "version": "3.9.12"
  }
 },
 "nbformat": 4,
 "nbformat_minor": 5
}
